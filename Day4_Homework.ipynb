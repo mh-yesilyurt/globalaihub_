{
 "cells": [
  {
   "cell_type": "code",
   "execution_count": null,
   "metadata": {},
   "outputs": [
    {
     "name": "stdin",
     "output_type": "stream",
     "text": [
      "Enter your name: Hakan\n"
     ]
    },
    {
     "name": "stdout",
     "output_type": "stream",
     "text": [
      "Welcome Hakan\n"
     ]
    },
    {
     "name": "stdin",
     "output_type": "stream",
     "text": [
      "Select your Session; Press C for Countries, F for Fruits, A for Animals:  C\n"
     ]
    },
    {
     "name": "stdout",
     "output_type": "stream",
     "text": [
      "Let's Start the Game\n",
      "Enter a letter: \n"
     ]
    },
    {
     "name": "stdin",
     "output_type": "stream",
     "text": [
      " l\n"
     ]
    },
    {
     "name": "stdout",
     "output_type": "stream",
     "text": [
      "_ _ _ _ _ _ _ l\n",
      "\n",
      "\n",
      "Enter a letter: \n"
     ]
    },
    {
     "name": "stdin",
     "output_type": "stream",
     "text": [
      " o\n"
     ]
    },
    {
     "name": "stdout",
     "output_type": "stream",
     "text": [
      "_ o _ _ _ _ _ l\n",
      "\n",
      "\n",
      "Enter a letter: \n"
     ]
    },
    {
     "name": "stdin",
     "output_type": "stream",
     "text": [
      " u\n"
     ]
    },
    {
     "name": "stdout",
     "output_type": "stream",
     "text": [
      "_ o _ _ u _ _ l\n",
      "\n",
      "\n",
      "Enter a letter: \n"
     ]
    },
    {
     "name": "stdin",
     "output_type": "stream",
     "text": [
      " z\n"
     ]
    },
    {
     "name": "stdout",
     "output_type": "stream",
     "text": [
      "__\n",
      " |\n",
      " O\n",
      "Enter a letter: \n"
     ]
    },
    {
     "name": "stdin",
     "output_type": "stream",
     "text": [
      " n\n"
     ]
    },
    {
     "name": "stdout",
     "output_type": "stream",
     "text": [
      "__\n",
      " |\n",
      " O \n",
      " |\n",
      "_ o _ _ u _ _ l\n",
      "Enter a letter: \n"
     ]
    },
    {
     "name": "stdin",
     "output_type": "stream",
     "text": [
      " a\n"
     ]
    },
    {
     "name": "stdout",
     "output_type": "stream",
     "text": [
      "_ o _ _ u _ a l\n",
      "\n",
      "\n",
      "Enter a letter: \n"
     ]
    },
    {
     "name": "stdin",
     "output_type": "stream",
     "text": [
      " m\n"
     ]
    },
    {
     "name": "stdout",
     "output_type": "stream",
     "text": [
      "__\n",
      " |\n",
      " O \n",
      "/|\n",
      "_ o _ _ u _ a l\n",
      "Enter a letter: \n"
     ]
    },
    {
     "name": "stdin",
     "output_type": "stream",
     "text": [
      " p\n"
     ]
    },
    {
     "name": "stdout",
     "output_type": "stream",
     "text": [
      "p o _ _ u _ a l\n",
      "\n",
      "\n",
      "Enter a letter: \n"
     ]
    },
    {
     "name": "stdin",
     "output_type": "stream",
     "text": [
      " r\n"
     ]
    },
    {
     "name": "stdout",
     "output_type": "stream",
     "text": [
      "p o r _ u _ a l\n",
      "\n",
      "\n",
      "Enter a letter: \n"
     ]
    },
    {
     "name": "stdin",
     "output_type": "stream",
     "text": [
      " f\n"
     ]
    },
    {
     "name": "stdout",
     "output_type": "stream",
     "text": [
      "__\n",
      " |\n",
      " O \n",
      "/|\\\n",
      "p o r _ u _ a l\n",
      "Enter a letter: \n"
     ]
    },
    {
     "name": "stdin",
     "output_type": "stream",
     "text": [
      " t\n"
     ]
    },
    {
     "name": "stdout",
     "output_type": "stream",
     "text": [
      "p o r t u _ a l\n",
      "\n",
      "\n",
      "Enter a letter: \n"
     ]
    },
    {
     "name": "stdin",
     "output_type": "stream",
     "text": [
      " g\n"
     ]
    },
    {
     "name": "stdout",
     "output_type": "stream",
     "text": [
      "p o r t u g a l\n",
      "Congratulations, YOU WON!\n"
     ]
    },
    {
     "name": "stdin",
     "output_type": "stream",
     "text": [
      "Press X for Quit:  x\n"
     ]
    }
   ],
   "source": [
    "import random\n",
    "while True:\n",
    "    name=input(\"Enter your name:\")\n",
    "    print(f\"Welcome {name.title()}\")\n",
    "    countries=[\"Switzerland\",\"Zimbabwe\",\"Portugal\",\"Jamaica\"]\n",
    "    fruits=[\"Pineapple\",\"Watermelon\",\"Strawberry\",\"Pomegranate\"]\n",
    "    animals=[\"Crocodile\",\"Elephant\",\"Antilope\",\"Chimpanzee\"]\n",
    "\n",
    "    session=input(\"Select your Session; Press C for Countries, F for Fruits, A for Animals: \")\n",
    "    if session.upper()==\"C\":\n",
    "        selected_session=countries\n",
    "    elif session.upper()==\"F\":\n",
    "        selected_session=fruits\n",
    "    elif session.upper()==\"A\":\n",
    "        selected_session=animals\n",
    "    else:\n",
    "        print(\"No session selected.The game won't start.\")\n",
    "        break\n",
    "\n",
    "    selected_word=selected_session[random.randint(0,len(selected_session)-1)]\n",
    "    print(\"Let's Start the Game\")\n",
    "    guess=[]\n",
    "    for m in range(0,len(selected_word)):\n",
    "        guess.append(\"_\")\n",
    "    hata=0\n",
    "    for i in range(0,100):\n",
    "        print(\"Enter a letter: \")\n",
    "        x=input()\n",
    "        if x in selected_word or x.upper() in selected_word[0]:\n",
    "            for b in range(0,len(selected_word)):\n",
    "                if x==selected_word[b] or x==selected_word[b].lower():\n",
    "                    guess[b]=x\n",
    "            listToStr=\" \".join([str(elem) for elem in guess])\n",
    "            print(listToStr) \n",
    "            if guess==list(selected_word) or guess==list(selected_word.lower()):\n",
    "                print(\"Congratulations, YOU WON!\")\n",
    "                break       \n",
    "            print(\"\\n\")\n",
    "        else:\n",
    "            if hata==0:\n",
    "                print(\"__\\n |\\n O\")\n",
    "                hata=hata+1\n",
    "            elif hata==1:\n",
    "                print(\"__\\n |\\n O \\n |\")\n",
    "                print(listToStr) \n",
    "                hata=hata+1\n",
    "            elif hata==2:\n",
    "                print(\"__\\n |\\n O \\n/|\")\n",
    "                print(listToStr) \n",
    "                hata=hata+1\n",
    "            elif hata==3:\n",
    "                print(\"__\\n |\\n O \\n/|\\\\\")\n",
    "                print(listToStr) \n",
    "                hata=hata+1\n",
    "            elif hata==4:\n",
    "                print(\"__\\n |\\n O \\n/|\\\\ \\n |\")\n",
    "                print(listToStr) \n",
    "                hata=hata+1\n",
    "            elif hata==5:\n",
    "                print(\"__\\n |\\n O \\n/|\\\\ \\n |\\n/\")\n",
    "                print(listToStr)\n",
    "                hata=hata+1\n",
    "            elif hata==6:\n",
    "                print(\"__\\n |\\n O \\n/|\\\\ \\n |\\n/ \\\\\")\n",
    "                print(listToStr) \n",
    "                print(\"You Failed.The word was \\\"{}\\\"\".format(selected_word))\n",
    "                break\n",
    "    last=input(\"Press X for Exit: \")\n",
    "    if last.upper()==\"X\":\n",
    "        exit()"
   ]
  },
  {
   "cell_type": "code",
   "execution_count": null,
   "metadata": {},
   "outputs": [],
   "source": []
  }
 ],
 "metadata": {
  "kernelspec": {
   "display_name": "Python 3",
   "language": "python",
   "name": "python3"
  },
  "language_info": {
   "codemirror_mode": {
    "name": "ipython",
    "version": 3
   },
   "file_extension": ".py",
   "mimetype": "text/x-python",
   "name": "python",
   "nbconvert_exporter": "python",
   "pygments_lexer": "ipython3",
   "version": "3.7.3"
  }
 },
 "nbformat": 4,
 "nbformat_minor": 4
}
