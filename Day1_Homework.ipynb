{
 "cells": [
  {
   "cell_type": "code",
   "execution_count": 14,
   "metadata": {},
   "outputs": [
    {
     "name": "stdout",
     "output_type": "stream",
     "text": [
      "Enter 5 values\n"
     ]
    },
    {
     "name": "stdin",
     "output_type": "stream",
     "text": [
      "Enter value:  hello\n",
      "Enter value:  12\n",
      "Enter value:  how are you\n",
      "Enter value:  1.7\n",
      "Enter value:  17.54687\n"
     ]
    },
    {
     "name": "stdout",
     "output_type": "stream",
     "text": [
      "The Value: hello\tValue's Type: <class 'str'>\n",
      "The Value: 12\tValue's Type: <class 'int'>\n",
      "The Value: how are you\tValue's Type: <class 'str'>\n",
      "The Value: 1.7\tValue's Type: <class 'float'>\n",
      "The Value: 17.54687\tValue's Type: <class 'float'>\n"
     ]
    }
   ],
   "source": [
    "print(\"Enter 5 values\")\n",
    "values=[]\n",
    "types=[]\n",
    "for i in range(5):\n",
    "    a=input(\"Enter value: \")\n",
    "    try:\n",
    "        o=float(a)\n",
    "        x=type(o)\n",
    "        u=int(a)\n",
    "        if u==o:\n",
    "            x=type(u)\n",
    "    except:\n",
    "        if(x==type(1.3)):\n",
    "            x=type(1.3)\n",
    "        else:\n",
    "             x=type(a)\n",
    "    values.append(a)\n",
    "    types.append(x)\n",
    "    x=None\n",
    "\n",
    "for i in range(5):\n",
    "    print(\"The Value: {}\".format(values[i]), end=\"\\t\")\n",
    "    print(f\"Value's Type: {types[i]}\", end=\"\\n\")"
   ]
  },
  {
   "cell_type": "code",
   "execution_count": null,
   "metadata": {},
   "outputs": [],
   "source": []
  }
 ],
 "metadata": {
  "kernelspec": {
   "display_name": "Python 3",
   "language": "python",
   "name": "python3"
  },
  "language_info": {
   "codemirror_mode": {
    "name": "ipython",
    "version": 3
   },
   "file_extension": ".py",
   "mimetype": "text/x-python",
   "name": "python",
   "nbconvert_exporter": "python",
   "pygments_lexer": "ipython3",
   "version": "3.7.3"
  }
 },
 "nbformat": 4,
 "nbformat_minor": 4
}
