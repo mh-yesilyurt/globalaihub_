{
 "cells": [
  {
   "cell_type": "code",
   "execution_count": 1,
   "metadata": {},
   "outputs": [
    {
     "name": "stdin",
     "output_type": "stream",
     "text": [
      "Enter Your First Name:  Hakan \n",
      "Enter Your Last Name:  Yeşilyurt\n",
      "Enter Your Age:  22\n",
      "Enter Your Year of Birth:  1998\n"
     ]
    },
    {
     "name": "stdout",
     "output_type": "stream",
     "text": [
      "Hakan  Yeşilyurt 22 1998 \n",
      "\n",
      "You can go out to the street\n"
     ]
    }
   ],
   "source": [
    "FirstName=input(\"Enter Your First Name: \")\n",
    "LastName=input(\"Enter Your Last Name: \")\n",
    "Age=input(\"Enter Your Age: \")\n",
    "birth=input(\"Enter Your Year of Birth: \")\n",
    "\n",
    "infos=[FirstName.title(),LastName.title(),Age,birth]\n",
    "for i in range(4):\n",
    "     print(infos[i],end=\" \")\n",
    "print(\"\\n\")\n",
    "if int(Age)>=18 and 2020-int(birth)>=18:\n",
    "    print(\"You can go out to the street\")\n",
    "else:\n",
    "    print(\"You can't go out because it's too dangerous.\")\n"
   ]
  },
  {
   "cell_type": "code",
   "execution_count": 2,
   "metadata": {},
   "outputs": [
    {
     "name": "stdin",
     "output_type": "stream",
     "text": [
      "Enter Your First Name:  Burak\n",
      "Enter Your Last Name:  Karagöz\n",
      "Enter Your Age:  17\n",
      "Enter Your Year of Birth:  2001\n"
     ]
    },
    {
     "name": "stdout",
     "output_type": "stream",
     "text": [
      "Burak Karagöz 17 2001 \n",
      "\n",
      "You can't go out because it's too dangerous.\n"
     ]
    }
   ],
   "source": [
    "FirstName=input(\"Enter Your First Name: \")\n",
    "LastName=input(\"Enter Your Last Name: \")\n",
    "Age=input(\"Enter Your Age: \")\n",
    "birth=input(\"Enter Your Year of Birth: \")\n",
    "\n",
    "infos=[FirstName.title(),LastName.title(),Age,birth]\n",
    "for i in range(4):\n",
    "     print(infos[i],end=\" \")\n",
    "print(\"\\n\")\n",
    "if int(Age)>=18 and 2020-int(birth)>=18:\n",
    "    print(\"You can go out to the street\")\n",
    "else:\n",
    "    print(\"You can't go out because it's too dangerous.\")"
   ]
  },
  {
   "cell_type": "code",
   "execution_count": null,
   "metadata": {},
   "outputs": [],
   "source": []
  }
 ],
 "metadata": {
  "kernelspec": {
   "display_name": "Python 3",
   "language": "python",
   "name": "python3"
  },
  "language_info": {
   "codemirror_mode": {
    "name": "ipython",
    "version": 3
   },
   "file_extension": ".py",
   "mimetype": "text/x-python",
   "name": "python",
   "nbconvert_exporter": "python",
   "pygments_lexer": "ipython3",
   "version": "3.7.3"
  }
 },
 "nbformat": 4,
 "nbformat_minor": 4
}
