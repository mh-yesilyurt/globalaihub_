{
 "cells": [
  {
   "cell_type": "code",
   "execution_count": 1,
   "metadata": {},
   "outputs": [
    {
     "name": "stdin",
     "output_type": "stream",
     "text": [
      "Enter your Name and Surname:  Hakan Yeşilyurt\n",
      "Enter your Name and Surname:  Hakan Yesilyurt\n"
     ]
    },
    {
     "name": "stdout",
     "output_type": "stream",
     "text": [
      "Welcome\n"
     ]
    },
    {
     "name": "stdin",
     "output_type": "stream",
     "text": [
      "Enter the lesson you want to take (if you don't want to take more lessons, press Q):  Math\n",
      "Enter the lesson you want to take (if you don't want to take more lessons, press Q):  Physics\n",
      "Enter the lesson you want to take (if you don't want to take more lessons, press Q):  Chemistry\n",
      "Enter the lesson you want to take (if you don't want to take more lessons, press Q):  Philosophy\n",
      "Enter the lesson you want to take (if you don't want to take more lessons, press Q):  Art\n",
      "Enter the course you want to take exams:  Math\n",
      "Enter your Midterm Grade:  70\n",
      "Enter your Final Grade:  90\n",
      "Enter your Project Grade:  65\n"
     ]
    },
    {
     "name": "stdout",
     "output_type": "stream",
     "text": [
      "You got BB from \"Math\" course\n"
     ]
    }
   ],
   "source": [
    "for i in range (0,3):\n",
    "    name=input(\"Enter your Name and Surname: \")\n",
    "    if name==\"Hakan Yesilyurt\":\n",
    "        print(\"Welcome\")\n",
    "        break\n",
    "    elif i==3 and name!=\"Hakan Yesilyurt\":\n",
    "        print(\"Please try again later.\")\n",
    "        exit()\n",
    "\n",
    "courses=[]\n",
    "for k in range(0,5):\n",
    "    lesson=input(\"Enter the lesson you want to take (if you don't want to take more lessons, press Q): \")\n",
    "    if lesson.upper()==\"Q\":\n",
    "        break\n",
    "    else:\n",
    "        courses.append(lesson)\n",
    "if len(courses)<3:\n",
    "    print(\"You failed in a class.\")\n",
    "chosen_course=input(\"Enter the course you want to take exams: \")\n",
    "midterm_grade=input(\"Enter your Midterm Grade: \")\n",
    "final_grade=input(\"Enter your Final Grade: \")\n",
    "project_grade=input(\"Enter your Project Grade: \")\n",
    "course={\"Course Name\":chosen_course,\"Midterm\":midterm_grade,\"Final\":final_grade,\"Project\":project_grade}\n",
    "total_grade=int(course[\"Midterm\"])*0.3+int(course[\"Final\"])*0.5+int(course[\"Project\"])*0.2\n",
    "\n",
    "if total_grade>= 90 :\n",
    "    print(f\"You got AA from \\\"{chosen_course}\\\" course\")\n",
    "elif total_grade>=70 and total_grade<90:\n",
    "    print(f\"You got BB from \\\"{chosen_course}\\\" course\")\n",
    "elif total_grade>=50 and total_grade<70:\n",
    "    print(f\"You got CC from \\\"{chosen_course}\\\" course\")    \n",
    "elif total_grade>=30 and total_grade<50:\n",
    "    print(f\"You got CC from \\\"{chosen_course}\\\" course\")    \n",
    "elif total_grade<30:\n",
    "    print(f\"You got FF from \\\"{chosen_course}\\\" course. You have failed, please work harder next time.\")    "
   ]
  },
  {
   "cell_type": "code",
   "execution_count": null,
   "metadata": {},
   "outputs": [],
   "source": []
  }
 ],
 "metadata": {
  "kernelspec": {
   "display_name": "Python 3",
   "language": "python",
   "name": "python3"
  },
  "language_info": {
   "codemirror_mode": {
    "name": "ipython",
    "version": 3
   },
   "file_extension": ".py",
   "mimetype": "text/x-python",
   "name": "python",
   "nbconvert_exporter": "python",
   "pygments_lexer": "ipython3",
   "version": "3.7.3"
  }
 },
 "nbformat": 4,
 "nbformat_minor": 4
}
